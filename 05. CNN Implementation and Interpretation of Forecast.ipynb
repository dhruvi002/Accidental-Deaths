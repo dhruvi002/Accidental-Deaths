{
 "cells": [
  {
   "cell_type": "code",
   "execution_count": null,
   "metadata": {
    "id": "3QtfJqJ4QH_n"
   },
   "outputs": [],
   "source": [
    "import random\n",
    "import numpy as np\n",
    "import pandas as pd\n",
    "import matplotlib.pyplot as plt\n",
    "from keras.models import Sequential\n",
    "from sklearn import metrics\n",
    "from keras.layers import Dense, Flatten\n",
    "from keras.layers.convolutional import Conv1D, MaxPooling1D"
   ]
  },
  {
   "cell_type": "code",
   "execution_count": null,
   "metadata": {
    "id": "PhlmMYW6UbiH"
   },
   "outputs": [],
   "source": [
    "df = pd.read_csv('accidental-deaths-in-usa-monthly.csv')"
   ]
  },
  {
   "cell_type": "code",
   "execution_count": null,
   "metadata": {
    "colab": {
     "base_uri": "https://localhost:8080/",
     "height": 206
    },
    "id": "1afsNtrMUyNG",
    "outputId": "5cee906a-c168-4be4-8a9e-9d12b3401928"
   },
   "outputs": [
    {
     "data": {
      "text/html": [
       "\n",
       "  <div id=\"df-3d2e98d0-a436-4a0f-87ad-b1e82b20b582\">\n",
       "    <div class=\"colab-df-container\">\n",
       "      <div>\n",
       "<style scoped>\n",
       "    .dataframe tbody tr th:only-of-type {\n",
       "        vertical-align: middle;\n",
       "    }\n",
       "\n",
       "    .dataframe tbody tr th {\n",
       "        vertical-align: top;\n",
       "    }\n",
       "\n",
       "    .dataframe thead th {\n",
       "        text-align: right;\n",
       "    }\n",
       "</style>\n",
       "<table border=\"1\" class=\"dataframe\">\n",
       "  <thead>\n",
       "    <tr style=\"text-align: right;\">\n",
       "      <th></th>\n",
       "      <th>Month</th>\n",
       "      <th>Accidental deaths</th>\n",
       "    </tr>\n",
       "  </thead>\n",
       "  <tbody>\n",
       "    <tr>\n",
       "      <th>0</th>\n",
       "      <td>1973-01</td>\n",
       "      <td>9007</td>\n",
       "    </tr>\n",
       "    <tr>\n",
       "      <th>1</th>\n",
       "      <td>1973-02</td>\n",
       "      <td>8106</td>\n",
       "    </tr>\n",
       "    <tr>\n",
       "      <th>2</th>\n",
       "      <td>1973-03</td>\n",
       "      <td>8928</td>\n",
       "    </tr>\n",
       "    <tr>\n",
       "      <th>3</th>\n",
       "      <td>1973-04</td>\n",
       "      <td>9137</td>\n",
       "    </tr>\n",
       "    <tr>\n",
       "      <th>4</th>\n",
       "      <td>1973-05</td>\n",
       "      <td>10017</td>\n",
       "    </tr>\n",
       "  </tbody>\n",
       "</table>\n",
       "</div>\n",
       "      <button class=\"colab-df-convert\" onclick=\"convertToInteractive('df-3d2e98d0-a436-4a0f-87ad-b1e82b20b582')\"\n",
       "              title=\"Convert this dataframe to an interactive table.\"\n",
       "              style=\"display:none;\">\n",
       "        \n",
       "  <svg xmlns=\"http://www.w3.org/2000/svg\" height=\"24px\"viewBox=\"0 0 24 24\"\n",
       "       width=\"24px\">\n",
       "    <path d=\"M0 0h24v24H0V0z\" fill=\"none\"/>\n",
       "    <path d=\"M18.56 5.44l.94 2.06.94-2.06 2.06-.94-2.06-.94-.94-2.06-.94 2.06-2.06.94zm-11 1L8.5 8.5l.94-2.06 2.06-.94-2.06-.94L8.5 2.5l-.94 2.06-2.06.94zm10 10l.94 2.06.94-2.06 2.06-.94-2.06-.94-.94-2.06-.94 2.06-2.06.94z\"/><path d=\"M17.41 7.96l-1.37-1.37c-.4-.4-.92-.59-1.43-.59-.52 0-1.04.2-1.43.59L10.3 9.45l-7.72 7.72c-.78.78-.78 2.05 0 2.83L4 21.41c.39.39.9.59 1.41.59.51 0 1.02-.2 1.41-.59l7.78-7.78 2.81-2.81c.8-.78.8-2.07 0-2.86zM5.41 20L4 18.59l7.72-7.72 1.47 1.35L5.41 20z\"/>\n",
       "  </svg>\n",
       "      </button>\n",
       "      \n",
       "  <style>\n",
       "    .colab-df-container {\n",
       "      display:flex;\n",
       "      flex-wrap:wrap;\n",
       "      gap: 12px;\n",
       "    }\n",
       "\n",
       "    .colab-df-convert {\n",
       "      background-color: #E8F0FE;\n",
       "      border: none;\n",
       "      border-radius: 50%;\n",
       "      cursor: pointer;\n",
       "      display: none;\n",
       "      fill: #1967D2;\n",
       "      height: 32px;\n",
       "      padding: 0 0 0 0;\n",
       "      width: 32px;\n",
       "    }\n",
       "\n",
       "    .colab-df-convert:hover {\n",
       "      background-color: #E2EBFA;\n",
       "      box-shadow: 0px 1px 2px rgba(60, 64, 67, 0.3), 0px 1px 3px 1px rgba(60, 64, 67, 0.15);\n",
       "      fill: #174EA6;\n",
       "    }\n",
       "\n",
       "    [theme=dark] .colab-df-convert {\n",
       "      background-color: #3B4455;\n",
       "      fill: #D2E3FC;\n",
       "    }\n",
       "\n",
       "    [theme=dark] .colab-df-convert:hover {\n",
       "      background-color: #434B5C;\n",
       "      box-shadow: 0px 1px 3px 1px rgba(0, 0, 0, 0.15);\n",
       "      filter: drop-shadow(0px 1px 2px rgba(0, 0, 0, 0.3));\n",
       "      fill: #FFFFFF;\n",
       "    }\n",
       "  </style>\n",
       "\n",
       "      <script>\n",
       "        const buttonEl =\n",
       "          document.querySelector('#df-3d2e98d0-a436-4a0f-87ad-b1e82b20b582 button.colab-df-convert');\n",
       "        buttonEl.style.display =\n",
       "          google.colab.kernel.accessAllowed ? 'block' : 'none';\n",
       "\n",
       "        async function convertToInteractive(key) {\n",
       "          const element = document.querySelector('#df-3d2e98d0-a436-4a0f-87ad-b1e82b20b582');\n",
       "          const dataTable =\n",
       "            await google.colab.kernel.invokeFunction('convertToInteractive',\n",
       "                                                     [key], {});\n",
       "          if (!dataTable) return;\n",
       "\n",
       "          const docLinkHtml = 'Like what you see? Visit the ' +\n",
       "            '<a target=\"_blank\" href=https://colab.research.google.com/notebooks/data_table.ipynb>data table notebook</a>'\n",
       "            + ' to learn more about interactive tables.';\n",
       "          element.innerHTML = '';\n",
       "          dataTable['output_type'] = 'display_data';\n",
       "          await google.colab.output.renderOutput(dataTable, element);\n",
       "          const docLink = document.createElement('div');\n",
       "          docLink.innerHTML = docLinkHtml;\n",
       "          element.appendChild(docLink);\n",
       "        }\n",
       "      </script>\n",
       "    </div>\n",
       "  </div>\n",
       "  "
      ],
      "text/plain": [
       "     Month  Accidental deaths\n",
       "0  1973-01               9007\n",
       "1  1973-02               8106\n",
       "2  1973-03               8928\n",
       "3  1973-04               9137\n",
       "4  1973-05              10017"
      ]
     },
     "execution_count": 6,
     "metadata": {},
     "output_type": "execute_result"
    }
   ],
   "source": [
    "df.head()"
   ]
  },
  {
   "cell_type": "code",
   "execution_count": null,
   "metadata": {
    "colab": {
     "base_uri": "https://localhost:8080/"
    },
    "id": "24tLEuuFVIJX",
    "outputId": "fdaab988-b204-4617-9bd9-a8d5cc6058d1"
   },
   "outputs": [
    {
     "data": {
      "text/plain": [
       "(72, 2)"
      ]
     },
     "execution_count": 7,
     "metadata": {},
     "output_type": "execute_result"
    }
   ],
   "source": [
    "df.shape"
   ]
  },
  {
   "cell_type": "code",
   "execution_count": null,
   "metadata": {
    "id": "d1MCAL2NU2Y_"
   },
   "outputs": [],
   "source": [
    "data = df['Accidental deaths']"
   ]
  },
  {
   "cell_type": "code",
   "execution_count": null,
   "metadata": {
    "id": "BIjdYRZcS-RX"
   },
   "outputs": [],
   "source": [
    "def getXY(sequence, steps):\n",
    "    X, Y = list(), list()\n",
    "    for start in range(len(sequence)):\n",
    "        end = start + steps\n",
    "        if end > len(sequence) - 1:\n",
    "            break\n",
    "        \n",
    "        X.append(sequence[start:end])\n",
    "        Y.append(sequence[end])\n",
    "    \n",
    "    return np.array(X), np.array(Y)"
   ]
  },
  {
   "cell_type": "code",
   "execution_count": null,
   "metadata": {
    "colab": {
     "base_uri": "https://localhost:8080/"
    },
    "id": "oNgAB28yVAlW",
    "outputId": "fe37e9b2-ce37-4a20-ec23-06ad84675c0c"
   },
   "outputs": [
    {
     "name": "stdout",
     "output_type": "stream",
     "text": [
      "[[ 9007  8106  8928]\n",
      " [ 8106  8928  9137]\n",
      " [ 8928  9137 10017]\n",
      " [ 9137 10017 10826]\n",
      " [10017 10826 11317]]\n",
      "[[ 9007  8106  8928]\n",
      " [ 8106  8928  9137]\n",
      " [ 8928  9137 10017]\n",
      " [ 9137 10017 10826]\n",
      " [10017 10826 11317]]\n"
     ]
    }
   ],
   "source": [
    "steps = 3\n",
    "X, Y = getXY(data, steps)\n",
    "print(X[:5])\n",
    "print(X[:5])"
   ]
  },
  {
   "cell_type": "code",
   "execution_count": null,
   "metadata": {
    "id": "Auz1m41zVqaX"
   },
   "outputs": [],
   "source": [
    "features = 1\n",
    "X = X.reshape(X.shape[0], X.shape[1], features)"
   ]
  },
  {
   "cell_type": "code",
   "execution_count": null,
   "metadata": {
    "colab": {
     "base_uri": "https://localhost:8080/"
    },
    "id": "PMF8k3O-WDYP",
    "outputId": "f42d0b83-195c-4432-9579-3d0bce9dd4b6"
   },
   "outputs": [
    {
     "name": "stdout",
     "output_type": "stream",
     "text": [
      "[[[ 9007]\n",
      "  [ 8106]\n",
      "  [ 8928]]\n",
      "\n",
      " [[ 8106]\n",
      "  [ 8928]\n",
      "  [ 9137]]\n",
      "\n",
      " [[ 8928]\n",
      "  [ 9137]\n",
      "  [10017]]\n",
      "\n",
      " [[ 9137]\n",
      "  [10017]\n",
      "  [10826]]\n",
      "\n",
      " [[10017]\n",
      "  [10826]\n",
      "  [11317]]]\n"
     ]
    }
   ],
   "source": [
    "print(X[:5])"
   ]
  },
  {
   "cell_type": "code",
   "execution_count": null,
   "metadata": {
    "id": "ZwADxDH2htHR"
   },
   "outputs": [],
   "source": [
    "split = -30\n",
    "X_train, X_test = X[:split], X[split:]\n",
    "Y_train, Y_test = Y[:split], Y[split:]"
   ]
  },
  {
   "cell_type": "code",
   "execution_count": null,
   "metadata": {
    "id": "SME8xrYZWOKZ"
   },
   "outputs": [],
   "source": [
    "model = Sequential([\n",
    "        Conv1D(filters=64, kernel_size=2, activation='relu', input_shape=(steps, features)),\n",
    "        MaxPooling1D(pool_size=2),\n",
    "        Flatten(),\n",
    "        Dense(500, activation='relu'),\n",
    "        Dense(100, activation='relu'),\n",
    "        Dense(500, activation='relu'),\n",
    "        Dense(1)\n",
    "    ])"
   ]
  },
  {
   "cell_type": "code",
   "execution_count": null,
   "metadata": {
    "id": "7yq3m9gUXPti"
   },
   "outputs": [],
   "source": [
    "model.compile(optimizer='adam', loss='mse')"
   ]
  },
  {
   "cell_type": "code",
   "execution_count": null,
   "metadata": {
    "colab": {
     "base_uri": "https://localhost:8080/"
    },
    "id": "0P6rycuPXcOq",
    "outputId": "a3966327-e04c-4dc8-d374-bbf11503620c"
   },
   "outputs": [
    {
     "name": "stdout",
     "output_type": "stream",
     "text": [
      "Model: \"sequential\"\n",
      "_________________________________________________________________\n",
      " Layer (type)                Output Shape              Param #   \n",
      "=================================================================\n",
      " conv1d (Conv1D)             (None, 2, 64)             192       \n",
      "                                                                 \n",
      " max_pooling1d (MaxPooling1D  (None, 1, 64)            0         \n",
      " )                                                               \n",
      "                                                                 \n",
      " flatten (Flatten)           (None, 64)                0         \n",
      "                                                                 \n",
      " dense (Dense)               (None, 500)               32500     \n",
      "                                                                 \n",
      " dense_1 (Dense)             (None, 100)               50100     \n",
      "                                                                 \n",
      " dense_2 (Dense)             (None, 500)               50500     \n",
      "                                                                 \n",
      " dense_3 (Dense)             (None, 1)                 501       \n",
      "                                                                 \n",
      "=================================================================\n",
      "Total params: 133,793\n",
      "Trainable params: 133,793\n",
      "Non-trainable params: 0\n",
      "_________________________________________________________________\n"
     ]
    }
   ],
   "source": [
    "model.summary()"
   ]
  },
  {
   "cell_type": "code",
   "execution_count": null,
   "metadata": {
    "id": "l9XNP3PnXuZ5"
   },
   "outputs": [],
   "source": [
    "h = model.fit(X_train, Y_train, epochs=1000, verbose=0)"
   ]
  },
  {
   "cell_type": "code",
   "execution_count": null,
   "metadata": {
    "colab": {
     "base_uri": "https://localhost:8080/",
     "height": 454
    },
    "id": "OV4V9Kh2YRmw",
    "outputId": "4e8a624d-c419-4bd1-df7a-0798a47c675e"
   },
   "outputs": [
    {
     "data": {
      "image/png": "[encoded data removed]",
      "text/plain": [
       "<Figure size 1080x720 with 1 Axes>"
      ]
     },
     "metadata": {
      "needs_background": "light"
     },
     "output_type": "display_data"
    }
   ],
   "source": [
    "plt.figure(figsize=(15, 10))\n",
    "plt.plot(h.history['loss'])\n",
    "plt.show()"
   ]
  },
  {
   "cell_type": "code",
   "execution_count": null,
   "metadata": {
    "colab": {
     "base_uri": "https://localhost:8080/"
    },
    "id": "8LiJTkGAYKff",
    "outputId": "a04a2485-d98e-4f92-fc69-a29ed4890ff2"
   },
   "outputs": [
    {
     "name": "stdout",
     "output_type": "stream",
     "text": [
      "1/1 [==============================] - 0s 105ms/step\n"
     ]
    }
   ],
   "source": [
    "Y_pred = model.predict(X_test)"
   ]
  },
  {
   "cell_type": "code",
   "execution_count": null,
   "metadata": {
    "id": "ygSeXpAtxu5D"
   },
   "outputs": [],
   "source": [
    "def evaluation(y_true, y_pred):\n",
    "    met = {}\n",
    "    \n",
    "    def mean_absolute_percentage_error(y_true, y_pred): \n",
    "        y_true, y_pred = np.array(y_true), np.array(y_pred)\n",
    "        return np.mean(np.abs((y_true - y_pred) / y_true)) * 100\n",
    "\n",
    "    met['MSE'] = metrics.mean_squared_error(y_true, y_pred)\n",
    "    met['MAE'] = metrics.mean_absolute_error(y_true, y_pred)\n",
    "    met['RMSE'] = np.sqrt(metrics.mean_squared_error(y_true, y_pred))\n",
    "    met['MAPE'] = mean_absolute_percentage_error(y_true, y_pred)\n",
    "    met['R2'] = metrics.r2_score(y_true, y_pred)\n",
    "\n",
    "    data = pd.DataFrame(met, index=[0])\n",
    "    print(data)"
   ]
  },
  {
   "cell_type": "code",
   "execution_count": null,
   "metadata": {
    "colab": {
     "base_uri": "https://localhost:8080/"
    },
    "id": "0v3mUQ0jiMPN",
    "outputId": "ae48f1da-3fb3-4701-fbf5-59fd1771783b"
   },
   "outputs": [
    {
     "name": "stdout",
     "output_type": "stream",
     "text": [
      "             MSE         MAE        RMSE       MAPE        R2\n",
      "0  843780.806612  735.184717  918.575422  13.096992 -0.044894\n"
     ]
    }
   ],
   "source": [
    "evaluation(Y_test, Y_pred)"
   ]
  },
  {
   "cell_type": "code",
   "execution_count": null,
   "metadata": {
    "id": "1QCwFbaoxJqE"
   },
   "outputs": [],
   "source": [
    "Y_pred = [i[0] for i in Y_pred]"
   ]
  },
  {
   "cell_type": "code",
   "execution_count": null,
   "metadata": {
    "colab": {
     "base_uri": "https://localhost:8080/"
    },
    "id": "FiWS4zNOu19I",
    "outputId": "86c3ceca-3eb4-4d99-f496-6c1e446dd73a"
   },
   "outputs": [
    {
     "name": "stdout",
     "output_type": "stream",
     "text": [
      "    Y_test        Y_pred\n",
      "0    10078   9133.130859\n",
      "1     9179  10546.620117\n",
      "2     8037   9835.488281\n",
      "3     8488   8393.049805\n",
      "4     7874   7999.686035\n",
      "5     8647   8006.467773\n",
      "6     7792   8362.480469\n",
      "7     6957   8246.585938\n",
      "8     7726   7146.336426\n",
      "9     8106   7394.508789\n",
      "10    8890   8403.074219\n",
      "11    9299   9240.251953\n",
      "12   10625   9552.677734\n",
      "13    9302  11265.625000\n",
      "14    8314  10243.331055\n",
      "15    8850   8584.731445\n",
      "16    8265   8316.291992\n",
      "17    8796   8421.933594\n",
      "18    7836   8375.033203\n",
      "19    6892   8167.752930\n",
      "20    7791   7201.404785\n",
      "21    8129   7483.746094\n",
      "22    9115   8518.807617\n",
      "23    9434   9556.537109\n",
      "24   10484   9823.946289\n",
      "25    9827  10882.633789\n",
      "26    9110  10313.826172\n",
      "27    9070   9008.463867\n",
      "28    8633   8549.531250\n",
      "29    9240   8342.288086\n"
     ]
    }
   ],
   "source": [
    "df = {'Y_test':Y_test, 'Y_pred':Y_pred}\n",
    "df = pd.DataFrame(df, index = [i for i in range(len(Y_test))])\n",
    "print(df)"
   ]
  },
  {
   "cell_type": "code",
   "execution_count": null,
   "metadata": {
    "colab": {
     "base_uri": "https://localhost:8080/",
     "height": 315
    },
    "id": "ggTBifO1YPqX",
    "outputId": "654b022e-db25-41cf-d3c2-10734cb3075c"
   },
   "outputs": [
    {
     "data": {
      "image/png": "[encoded data removed]",
      "text/plain": [
       "<Figure size 1080x504 with 1 Axes>"
      ]
     },
     "metadata": {
      "needs_background": "light"
     },
     "output_type": "display_data"
    }
   ],
   "source": [
    "plt.figure(figsize=(15, 7))\n",
    "plt.plot(Y_test, color='g')\n",
    "plt.plot(Y_pred, color='r')\n",
    "plt.legend(['Test', 'Predicted'], loc='best')\n",
    "plt.show()"
   ]
  }
 ],
 "metadata": {
  "colab": {
   "provenance": []
  },
  "kernelspec": {
   "display_name": "Python 3 (ipykernel)",
   "language": "python",
   "name": "python3"
  },
  "language_info": {
   "codemirror_mode": {
    "name": "ipython",
    "version": 3
   },
   "file_extension": ".py",
   "mimetype": "text/x-python",
   "name": "python",
   "nbconvert_exporter": "python",
   "pygments_lexer": "ipython3",
   "version": "3.9.7"
  }
 },
 "nbformat": 4,
 "nbformat_minor": 1
}
